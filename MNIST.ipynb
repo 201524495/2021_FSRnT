{
  "nbformat": 4,
  "nbformat_minor": 0,
  "metadata": {
    "colab": {
      "name": "MNIST",
      "provenance": [],
      "collapsed_sections": [],
      "toc_visible": true,
      "authorship_tag": "ABX9TyNqEXh/n3lIrVXDPQVQ1/Tt",
      "include_colab_link": true
    },
    "kernelspec": {
      "display_name": "Python 3",
      "name": "python3"
    }
  },
  "cells": [
    {
      "cell_type": "markdown",
      "metadata": {
        "id": "view-in-github",
        "colab_type": "text"
      },
      "source": [
        "<a href=\"https://colab.research.google.com/github/201524495/2021_FSRnT/blob/main/MNIST.ipynb\" target=\"_parent\"><img src=\"https://colab.research.google.com/assets/colab-badge.svg\" alt=\"Open In Colab\"/></a>"
      ]
    },
    {
      "cell_type": "code",
      "metadata": {
        "id": "dBUv7Chjlivh"
      },
      "source": [
        "import numpy as np\r\n",
        "\r\n",
        "from keras.utils import np_utils\r\n",
        "\r\n",
        "from keras.datasets import mnist\r\n",
        "\r\n",
        "from tensorflow.keras.models import Sequential\r\n",
        "\r\n",
        "from tensorflow.keras.layers import Dense, Activation\r\n",
        "from tensorflow.keras.layers import Conv2D, MaxPooling2D, Flatten\r\n",
        "\r\n",
        "from google.colab.patches import cv2_imshow"
      ],
      "execution_count": null,
      "outputs": []
    },
    {
      "cell_type": "code",
      "metadata": {
        "colab": {
          "base_uri": "https://localhost:8080/",
          "height": 332
        },
        "id": "Ex0kaKNrlnUK",
        "outputId": "50cbd1a8-82a6-4b27-8e26-a3a63b8b05a5"
      },
      "source": [
        "(x_train, y_train), (x_test, y_test) = mnist.load_data()\r\n",
        "\r\n",
        "print(\"x_train : \", np.shape(x_train))\r\n",
        "print(\"y_train : \", np.shape(y_train))\r\n",
        "\r\n",
        "for i in range(10):\r\n",
        "    cv2_imshow(x_test[i])"
      ],
      "execution_count": null,
      "outputs": [
        {
          "output_type": "stream",
          "text": [
            "x_train :  (60000, 28, 28)\n",
            "y_train :  (60000,)\n"
          ],
          "name": "stdout"
        },
        {
          "output_type": "display_data",
          "data": {
            "image/png": "[encoded data removed]",
            "text/plain": [
              "<PIL.Image.Image image mode=L size=28x28 at 0x7F14B6CC0C50>"
            ]
          },
          "metadata": {
            "tags": []
          }
        },
        {
          "output_type": "display_data",
          "data": {
            "image/png": "[encoded data removed]",
            "text/plain": [
              "<PIL.Image.Image image mode=L size=28x28 at 0x7F14B6CA9810>"
            ]
          },
          "metadata": {
            "tags": []
          }
        },
        {
          "output_type": "display_data",
          "data": {
            "image/png": "[encoded data removed]",
            "text/plain": [
              "<PIL.Image.Image image mode=L size=28x28 at 0x7F14B6CA9710>"
            ]
          },
          "metadata": {
            "tags": []
          }
        },
        {
          "output_type": "display_data",
          "data": {
            "image/png": "[encoded data removed]",
            "text/plain": [
              "<PIL.Image.Image image mode=L size=28x28 at 0x7F14B6CA9750>"
            ]
          },
          "metadata": {
            "tags": []
          }
        },
        {
          "output_type": "display_data",
          "data": {
            "image/png": "[encoded data removed]",
            "text/plain": [
              "<PIL.Image.Image image mode=L size=28x28 at 0x7F14B6CA9B10>"
            ]
          },
          "metadata": {
            "tags": []
          }
        },
        {
          "output_type": "display_data",
          "data": {
            "image/png": "[encoded data removed]",
            "text/plain": [
              "<PIL.Image.Image image mode=L size=28x28 at 0x7F14B6CA90D0>"
            ]
          },
          "metadata": {
            "tags": []
          }
        },
        {
          "output_type": "display_data",
          "data": {
            "image/png": "[encoded data removed]",
            "text/plain": [
              "<PIL.Image.Image image mode=L size=28x28 at 0x7F14B6CA9190>"
            ]
          },
          "metadata": {
            "tags": []
          }
        },
        {
          "output_type": "display_data",
          "data": {
            "image/png": "[encoded data removed]",
            "text/plain": [
              "<PIL.Image.Image image mode=L size=28x28 at 0x7F14B6CA92D0>"
            ]
          },
          "metadata": {
            "tags": []
          }
        },
        {
          "output_type": "display_data",
          "data": {
            "image/png": "[encoded data removed]",
            "text/plain": [
              "<PIL.Image.Image image mode=L size=28x28 at 0x7F14B6CA9410>"
            ]
          },
          "metadata": {
            "tags": []
          }
        },
        {
          "output_type": "display_data",
          "data": {
            "image/png": "[encoded data removed]",
            "text/plain": [
              "<PIL.Image.Image image mode=L size=28x28 at 0x7F14B6CA98D0>"
            ]
          },
          "metadata": {
            "tags": []
          }
        }
      ]
    },
    {
      "cell_type": "code",
      "metadata": {
        "colab": {
          "base_uri": "https://localhost:8080/"
        },
        "id": "psMm9QZgm412",
        "outputId": "612c1951-215d-4a5a-c16a-e9de77bb3dad"
      },
      "source": [
        "x_train = x_train.reshape(60000, 28, 28, 1).astype('float32')/255.0\r\n",
        "x_test = x_test.reshape(10000, 28, 28, 1).astype('float32')/255.0\r\n",
        "\r\n",
        "y_train = np_utils.to_categorical(y_train)\r\n",
        "y_test = np_utils.to_categorical(y_test)\r\n",
        "print('y_train : ', np.shape(y_train))\r\n",
        "\r\n",
        "x_valid = x_train[50000:]\r\n",
        "y_valid = y_train[50000:]\r\n",
        "x_train = x_train[:50000]\r\n",
        "y_train = y_train[:50000]\r\n",
        "\r\n",
        "print('x_train : ', np.shape(x_train))\r\n",
        "print('x_valid : ', np.shape(x_valid))"
      ],
      "execution_count": null,
      "outputs": [
        {
          "output_type": "stream",
          "text": [
            "y_train :  (60000, 10)\n",
            "x_train :  (50000, 28, 28, 1)\n",
            "x_valid :  (10000, 28, 28, 1)\n"
          ],
          "name": "stdout"
        }
      ]
    },
    {
      "cell_type": "code",
      "metadata": {
        "colab": {
          "base_uri": "https://localhost:8080/"
        },
        "id": "CouoUxAPm_l2",
        "outputId": "9957a81f-a951-4d65-bebd-d58a46b4249b"
      },
      "source": [
        "width = 28\r\n",
        "height = 28\r\n",
        "channel = 1\r\n",
        "\r\n",
        "model = Sequential(name='MINST_CNN')\r\n",
        "\r\n",
        "# filters : Kernel 그룹의 갯수 / kernel_size : Kernel 크기\r\n",
        "model.add(Conv2D(filters=32, kernel_size=(3, 3), activation='relu', input_shape=(width, height, channel)))\r\n",
        "model.add(Conv2D(filters=32, kernel_size=(3, 3), activation='relu'))\r\n",
        "\r\n",
        "# pool_size : MaxPooling 의 Window size\r\n",
        "model.add(MaxPooling2D(pool_size=(2, 2)))\r\n",
        "model.add(Conv2D(filters=64, kernel_size=(3, 3), activation='relu'))\r\n",
        "model.add(Conv2D(filters=64, kernel_size=(3, 3), activation='relu'))\r\n",
        "model.add(MaxPooling2D(pool_size=(2, 2)))\r\n",
        "\r\n",
        "# N차원 배열을 1차원으로 \r\n",
        "model.add(Flatten())\r\n",
        "\r\n",
        "# 두 층 MLP\r\n",
        "model.add(Dense(512, activation='relu'))\r\n",
        "model.add(Dense(10, activation='softmax'))\r\n",
        "model.summary()"
      ],
      "execution_count": null,
      "outputs": [
        {
          "output_type": "stream",
          "text": [
            "Model: \"MINST_CNN\"\n",
            "_________________________________________________________________\n",
            "Layer (type)                 Output Shape              Param #   \n",
            "=================================================================\n",
            "conv2d_12 (Conv2D)           (None, 26, 26, 32)        320       \n",
            "_________________________________________________________________\n",
            "conv2d_13 (Conv2D)           (None, 24, 24, 32)        9248      \n",
            "_________________________________________________________________\n",
            "max_pooling2d_6 (MaxPooling2 (None, 12, 12, 32)        0         \n",
            "_________________________________________________________________\n",
            "conv2d_14 (Conv2D)           (None, 10, 10, 64)        18496     \n",
            "_________________________________________________________________\n",
            "conv2d_15 (Conv2D)           (None, 8, 8, 64)          36928     \n",
            "_________________________________________________________________\n",
            "max_pooling2d_7 (MaxPooling2 (None, 4, 4, 64)          0         \n",
            "_________________________________________________________________\n",
            "flatten_3 (Flatten)          (None, 1024)              0         \n",
            "_________________________________________________________________\n",
            "dense_6 (Dense)              (None, 512)               524800    \n",
            "_________________________________________________________________\n",
            "dense_7 (Dense)              (None, 10)                5130      \n",
            "=================================================================\n",
            "Total params: 594,922\n",
            "Trainable params: 594,922\n",
            "Non-trainable params: 0\n",
            "_________________________________________________________________\n"
          ],
          "name": "stdout"
        }
      ]
    },
    {
      "cell_type": "code",
      "metadata": {
        "colab": {
          "base_uri": "https://localhost:8080/"
        },
        "id": "yAcjODnPpu64",
        "outputId": "28819e0f-7782-4d50-e692-3f2f21bb2adf"
      },
      "source": [
        "#categorical_crossentropy : 분류가 2개 이상인 CEE\r\n",
        "#optimizer : 학습 방법, SGD 사용\r\n",
        "#metrics : 학습 도중 화면에 어떤 값을 띄울지 결정\r\n",
        "model.compile(loss='categorical_crossentropy', optimizer='sgd', metrics=['accuracy'])\r\n",
        "\r\n",
        "#모델 학습 시키기\r\n",
        "#hist는 Epoch 당 학습 결과를 갖게 된다. \r\n",
        "hist = model.fit(x_train, y_train, \r\n",
        "                 epochs=10, \r\n",
        "                 batch_size=32, \r\n",
        "                 validation_data=(x_valid, y_valid))"
      ],
      "execution_count": null,
      "outputs": [
        {
          "output_type": "stream",
          "text": [
            "Epoch 1/10\n",
            "1563/1563 [==============================] - 136s 87ms/step - loss: 1.0235 - accuracy: 0.6786 - val_loss: 0.1013 - val_accuracy: 0.9697\n",
            "Epoch 2/10\n",
            "1563/1563 [==============================] - 136s 87ms/step - loss: 0.0998 - accuracy: 0.9694 - val_loss: 0.0815 - val_accuracy: 0.9769\n",
            "Epoch 3/10\n",
            "1563/1563 [==============================] - 137s 87ms/step - loss: 0.0681 - accuracy: 0.9792 - val_loss: 0.0944 - val_accuracy: 0.9718\n",
            "Epoch 4/10\n",
            "1563/1563 [==============================] - 136s 87ms/step - loss: 0.0513 - accuracy: 0.9834 - val_loss: 0.0635 - val_accuracy: 0.9811\n",
            "Epoch 5/10\n",
            "1563/1563 [==============================] - 136s 87ms/step - loss: 0.0420 - accuracy: 0.9871 - val_loss: 0.0541 - val_accuracy: 0.9856\n",
            "Epoch 6/10\n",
            "1563/1563 [==============================] - 136s 87ms/step - loss: 0.0332 - accuracy: 0.9895 - val_loss: 0.0588 - val_accuracy: 0.9819\n",
            "Epoch 7/10\n",
            "1563/1563 [==============================] - 136s 87ms/step - loss: 0.0279 - accuracy: 0.9907 - val_loss: 0.0549 - val_accuracy: 0.9850\n",
            "Epoch 8/10\n",
            "1563/1563 [==============================] - 135s 87ms/step - loss: 0.0239 - accuracy: 0.9924 - val_loss: 0.0550 - val_accuracy: 0.9851\n",
            "Epoch 9/10\n",
            "1563/1563 [==============================] - 135s 86ms/step - loss: 0.0209 - accuracy: 0.9939 - val_loss: 0.0489 - val_accuracy: 0.9862\n",
            "Epoch 10/10\n",
            "1563/1563 [==============================] - 136s 87ms/step - loss: 0.0166 - accuracy: 0.9951 - val_loss: 0.0505 - val_accuracy: 0.9861\n"
          ],
          "name": "stdout"
        }
      ]
    },
    {
      "cell_type": "code",
      "metadata": {
        "colab": {
          "base_uri": "https://localhost:8080/"
        },
        "id": "fZTx2f49qwic",
        "outputId": "c503fd1b-2b11-4dd6-a5de-53b6feceb803"
      },
      "source": [
        "import matplotlib.pyplot as plt\r\n",
        "\r\n",
        "plt.plot(hist.history['loss'], 'y', label='train loss')\r\n",
        "plt.plot(hist.history['val_loss'], 'r', label='val loss')\r\n",
        "\r\n",
        "plt.ylim([0.0, 0.6])\r\n",
        "\r\n",
        "plt.xlabel('epoch')\r\n",
        "plt.ylabel('loss')\r\n",
        "\r\n",
        "plt.legend(loc='upper left')\r\n",
        "plt.show()"
      ],
      "execution_count": null,
      "outputs": [
        {
          "output_type": "display_data",
          "data": {
            "image/png": "[encoded data removed]",
            "text/plain": [
              "<Figure size 432x288 with 1 Axes>"
            ]
          },
          "metadata": {
            "tags": [],
            "needs_background": "light"
          }
        }
      ]
    },
    {
      "cell_type": "code",
      "metadata": {
        "colab": {
          "base_uri": "https://localhost:8080/"
        },
        "id": "hY67T0f2rRCz",
        "outputId": "a7299113-1dab-483f-ce22-09d3f7891c6f"
      },
      "source": [
        "plt.plot(hist.history['accuracy'], 'b', label='train acc')\r\n",
        "plt.plot(hist.history['val_accuracy'], 'g', label='val acc')\r\n",
        "\r\n",
        "plt.ylim([0.8, 1.0])\r\n",
        "\r\n",
        "plt.xlabel('epoch')\r\n",
        "plt.ylabel('accuracy')\r\n",
        "\r\n",
        "plt.legend(loc='upper left')\r\n",
        "plt.show()"
      ],
      "execution_count": null,
      "outputs": [
        {
          "output_type": "display_data",
          "data": {
            "image/png": "[encoded data removed]",
            "text/plain": [
              "<Figure size 432x288 with 1 Axes>"
            ]
          },
          "metadata": {
            "tags": [],
            "needs_background": "light"
          }
        }
      ]
    },
    {
      "cell_type": "code",
      "metadata": {
        "colab": {
          "base_uri": "https://localhost:8080/"
        },
        "id": "h5hjBA3CrRWe",
        "outputId": "2523874d-0a14-4f1d-afec-b42a4c9b9e43"
      },
      "source": [
        "loss_and_acc = model.evaluate(x_test, y_test, batch_size=32)\r\n",
        "print('Test set Loss and Accuracy')\r\n",
        "print(loss_and_acc)"
      ],
      "execution_count": null,
      "outputs": [
        {
          "output_type": "stream",
          "text": [
            "313/313 [==============================] - 6s 19ms/step - loss: 0.0400 - accuracy: 0.9884\n",
            "Test set Loss and Accuracy\n",
            "[0.0400090366601944, 0.9883999824523926]\n"
          ],
          "name": "stdout"
        }
      ]
    },
    {
      "cell_type": "code",
      "metadata": {
        "colab": {
          "base_uri": "https://localhost:8080/"
        },
        "id": "-FvbsANArRZS",
        "outputId": "b1508851-05cd-4389-d1e1-22be43dcd6d5"
      },
      "source": [
        "import random\r\n",
        "r = random.randint(0, 1000)\r\n",
        "\r\n",
        "output = model.predict(x_test[r].reshape(1, 28, 28, 1))\r\n",
        "\r\n",
        "cv2_imshow(x_test[r].reshape(28, 28) * 255)\r\n",
        "\r\n",
        "print('정답 : ', np.argmax(y_test[r]))\r\n",
        "print('예상 숫자 분류 : ', np.argmax(output))"
      ],
      "execution_count": null,
      "outputs": [
        {
          "output_type": "display_data",
          "data": {
            "image/png": "[encoded data removed]",
            "text/plain": [
              "<PIL.Image.Image image mode=L size=28x28 at 0x7F14B6CAB050>"
            ]
          },
          "metadata": {
            "tags": []
          }
        },
        {
          "output_type": "stream",
          "text": [
            "정답 :  9\n",
            "예상 숫자 분류 :  9\n"
          ],
          "name": "stdout"
        }
      ]
    },
    {
      "cell_type": "code",
      "metadata": {
        "colab": {
          "base_uri": "https://localhost:8080/"
        },
        "id": "9Viv3tfSrRbf",
        "outputId": "3c3ce1cf-9c5e-4513-b373-d5c9dee03702"
      },
      "source": [
        "from google.colab import drive\r\n",
        "drive.mount('/content/drive')"
      ],
      "execution_count": null,
      "outputs": [
        {
          "output_type": "stream",
          "text": [
            "Drive already mounted at /content/drive; to attempt to forcibly remount, call drive.mount(\"/content/drive\", force_remount=True).\n"
          ],
          "name": "stdout"
        }
      ]
    },
    {
      "cell_type": "code",
      "metadata": {
        "id": "gemuwck2urnZ"
      },
      "source": [
        "model.save('\\content\\drive\\My Drive\\MINST_CNN.h5')"
      ],
      "execution_count": null,
      "outputs": []
    },
    {
      "cell_type": "code",
      "metadata": {
        "id": "ChdNDfp4wkbo"
      },
      "source": [
        "del model"
      ],
      "execution_count": null,
      "outputs": []
    }
  ]
}