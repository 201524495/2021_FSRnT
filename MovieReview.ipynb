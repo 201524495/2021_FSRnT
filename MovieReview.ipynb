{
  "nbformat": 4,
  "nbformat_minor": 0,
  "metadata": {
    "colab": {
      "name": "MovieReview.ipynb",
      "provenance": [],
      "collapsed_sections": [],
      "authorship_tag": "ABX9TyMbPCAOoMCLvOKsEAqFaONX",
      "include_colab_link": true
    },
    "kernelspec": {
      "name": "python3",
      "display_name": "Python 3"
    }
  },
  "cells": [
    {
      "cell_type": "markdown",
      "metadata": {
        "id": "view-in-github",
        "colab_type": "text"
      },
      "source": [
        "<a href=\"https://colab.research.google.com/github/201524495/2021_FSRnT/blob/main/MovieReview.ipynb\" target=\"_parent\"><img src=\"https://colab.research.google.com/assets/colab-badge.svg\" alt=\"Open In Colab\"/></a>"
      ]
    },
    {
      "cell_type": "code",
      "metadata": {
        "colab": {
          "base_uri": "https://localhost:8080/"
        },
        "id": "drGisu_VHVj2",
        "outputId": "c73e8c50-e090-4bc0-ddb8-2ae3238eef9f"
      },
      "source": [
        "import tensorflow as tf\r\n",
        "from tensorflow import keras\r\n",
        "\r\n",
        "import numpy as np\r\n",
        "\r\n",
        "print(tf.__version__)"
      ],
      "execution_count": null,
      "outputs": [
        {
          "output_type": "stream",
          "text": [
            "2.4.1\n"
          ],
          "name": "stdout"
        }
      ]
    },
    {
      "cell_type": "code",
      "metadata": {
        "colab": {
          "base_uri": "https://localhost:8080/"
        },
        "id": "rrSTiXcXHwAW",
        "outputId": "f36411f4-c376-4f0a-bd0e-d28b26c81723"
      },
      "source": [
        "imdb = keras.datasets.imdb\r\n",
        "\r\n",
        "(train_data, train_labels), (test_data, test_labels) = imdb.load_data(num_words = 10000)"
      ],
      "execution_count": null,
      "outputs": [
        {
          "output_type": "stream",
          "text": [
            "Downloading data from https://storage.googleapis.com/tensorflow/tf-keras-datasets/imdb.npz\n",
            "17465344/17464789 [==============================] - 0s 0us/step\n"
          ],
          "name": "stdout"
        },
        {
          "output_type": "stream",
          "text": [
            "<string>:6: VisibleDeprecationWarning: Creating an ndarray from ragged nested sequences (which is a list-or-tuple of lists-or-tuples-or ndarrays with different lengths or shapes) is deprecated. If you meant to do this, you must specify 'dtype=object' when creating the ndarray\n",
            "/usr/local/lib/python3.7/dist-packages/tensorflow/python/keras/datasets/imdb.py:159: VisibleDeprecationWarning: Creating an ndarray from ragged nested sequences (which is a list-or-tuple of lists-or-tuples-or ndarrays with different lengths or shapes) is deprecated. If you meant to do this, you must specify 'dtype=object' when creating the ndarray\n",
            "  x_train, y_train = np.array(xs[:idx]), np.array(labels[:idx])\n",
            "/usr/local/lib/python3.7/dist-packages/tensorflow/python/keras/datasets/imdb.py:160: VisibleDeprecationWarning: Creating an ndarray from ragged nested sequences (which is a list-or-tuple of lists-or-tuples-or ndarrays with different lengths or shapes) is deprecated. If you meant to do this, you must specify 'dtype=object' when creating the ndarray\n",
            "  x_test, y_test = np.array(xs[idx:]), np.array(labels[idx:])\n"
          ],
          "name": "stderr"
        }
      ]
    },
    {
      "cell_type": "code",
      "metadata": {
        "colab": {
          "base_uri": "https://localhost:8080/"
        },
        "id": "CrO2fyf6Hv-G",
        "outputId": "ae364533-c135-40de-8a39-39f52ba756be"
      },
      "source": [
        "print(\"훈련 샘플 : {}, 레이블 : {}\".format(len(train_data), len(train_labels)))"
      ],
      "execution_count": null,
      "outputs": [
        {
          "output_type": "stream",
          "text": [
            "훈련 샘플 : 25000, 레이블 : 25000\n"
          ],
          "name": "stdout"
        }
      ]
    },
    {
      "cell_type": "code",
      "metadata": {
        "colab": {
          "base_uri": "https://localhost:8080/"
        },
        "id": "Jj7r-BmiHv7r",
        "outputId": "87b85c4b-a2e8-4771-fe81-41b99606204d"
      },
      "source": [
        "# 첫번째[0] 리뷰의 길이와 두번째[1] 리뷰의 길이가 다르다. \r\n",
        "len(train_data[0]), len(train_data[1])"
      ],
      "execution_count": null,
      "outputs": [
        {
          "output_type": "execute_result",
          "data": {
            "text/plain": [
              "(218, 189)"
            ]
          },
          "metadata": {
            "tags": []
          },
          "execution_count": 5
        }
      ]
    },
    {
      "cell_type": "code",
      "metadata": {
        "id": "w9N_9hE0Hv5z",
        "colab": {
          "base_uri": "https://localhost:8080/"
        },
        "outputId": "1f6f6b1b-4fa1-4ad3-f97e-67b721ca48fa"
      },
      "source": [
        "print(train_data[0])"
      ],
      "execution_count": null,
      "outputs": [
        {
          "output_type": "stream",
          "text": [
            "[1, 14, 22, 16, 43, 530, 973, 1622, 1385, 65, 458, 4468, 66, 3941, 4, 173, 36, 256, 5, 25, 100, 43, 838, 112, 50, 670, 2, 9, 35, 480, 284, 5, 150, 4, 172, 112, 167, 2, 336, 385, 39, 4, 172, 4536, 1111, 17, 546, 38, 13, 447, 4, 192, 50, 16, 6, 147, 2025, 19, 14, 22, 4, 1920, 4613, 469, 4, 22, 71, 87, 12, 16, 43, 530, 38, 76, 15, 13, 1247, 4, 22, 17, 515, 17, 12, 16, 626, 18, 2, 5, 62, 386, 12, 8, 316, 8, 106, 5, 4, 2223, 5244, 16, 480, 66, 3785, 33, 4, 130, 12, 16, 38, 619, 5, 25, 124, 51, 36, 135, 48, 25, 1415, 33, 6, 22, 12, 215, 28, 77, 52, 5, 14, 407, 16, 82, 2, 8, 4, 107, 117, 5952, 15, 256, 4, 2, 7, 3766, 5, 723, 36, 71, 43, 530, 476, 26, 400, 317, 46, 7, 4, 2, 1029, 13, 104, 88, 4, 381, 15, 297, 98, 32, 2071, 56, 26, 141, 6, 194, 7486, 18, 4, 226, 22, 21, 134, 476, 26, 480, 5, 144, 30, 5535, 18, 51, 36, 28, 224, 92, 25, 104, 4, 226, 65, 16, 38, 1334, 88, 12, 16, 283, 5, 16, 4472, 113, 103, 32, 15, 16, 5345, 19, 178, 32]\n"
          ],
          "name": "stdout"
        }
      ]
    },
    {
      "cell_type": "code",
      "metadata": {
        "id": "hxtwq_7KHv3f",
        "colab": {
          "base_uri": "https://localhost:8080/"
        },
        "outputId": "353c05fb-c987-4b69-ff42-40f64b16d136"
      },
      "source": [
        "# 단어와 정수 인덱스를 매핑한 딕셔너리\r\n",
        "word_index = imdb.get_word_index()\r\n",
        "\r\n",
        "# 처음 몇 개 인덱스는 사전에 정의되어 있다.\r\n",
        "word_index = {k:(v+3) for k,v in word_index.items()}\r\n",
        "word_index[\"<PAD>\"] = 0\r\n",
        "word_index[\"<START>\"] = 1\r\n",
        "word_index[\"<UNK>\"] = 2  # unknown\r\n",
        "word_index[\"<UNUSED>\"] = 3\r\n",
        "\r\n",
        "reverse_word_index = dict([(value, key) for (key, value) in word_index.items()])\r\n",
        "\r\n",
        "def decode_review(text):\r\n",
        "  return ' '.join([reverse_word_index.get(i, '?') for i in text]) "
      ],
      "execution_count": null,
      "outputs": [
        {
          "output_type": "stream",
          "text": [
            "Downloading data from https://storage.googleapis.com/tensorflow/tf-keras-datasets/imdb_word_index.json\n",
            "1646592/1641221 [==============================] - 0s 0us/step\n"
          ],
          "name": "stdout"
        }
      ]
    },
    {
      "cell_type": "code",
      "metadata": {
        "id": "-CGzM_JEHv1W",
        "colab": {
          "base_uri": "https://localhost:8080/",
          "height": 125
        },
        "outputId": "b30294d1-6c53-47f1-e21b-b91654350fc9"
      },
      "source": [
        "decode_review(train_data[0])"
      ],
      "execution_count": null,
      "outputs": [
        {
          "output_type": "execute_result",
          "data": {
            "application/vnd.google.colaboratory.intrinsic+json": {
              "type": "string"
            },
            "text/plain": [
              "\"<START> this film was just brilliant casting location scenery story direction everyone's really suited the part they played and you could just imagine being there robert <UNK> is an amazing actor and now the same being director <UNK> father came from the same scottish island as myself so i loved the fact there was a real connection with this film the witty remarks throughout the film were great it was just brilliant so much that i bought the film as soon as it was released for <UNK> and would recommend it to everyone to watch and the fly fishing was amazing really cried at the end it was so sad and you know what they say if you cry at a film it must have been good and this definitely was also <UNK> to the two little boy's that played the <UNK> of norman and paul they were just brilliant children are often left out of the <UNK> list i think because the stars that play them all grown up are such a big profile for the whole film but these children are amazing and should be praised for what they have done don't you think the whole story was so lovely because it was true and was someone's life after all that was shared with us all\""
            ]
          },
          "metadata": {
            "tags": []
          },
          "execution_count": 8
        }
      ]
    },
    {
      "cell_type": "code",
      "metadata": {
        "id": "V-rpCs5GHvy_"
      },
      "source": [
        "#데이터 준비\r\n",
        "\r\n",
        "train_data = keras.preprocessing.sequence.pad_sequences(train_data,\r\n",
        "                                                        value = word_index[\"<PAD>\"],\r\n",
        "                                                        padding = 'post',\r\n",
        "                                                        maxlen = 256)\r\n",
        "\r\n",
        "test_data = keras.preprocessing.sequence.pad_sequences(test_data,\r\n",
        "                                                       value = word_index[\"<PAD>\"],\r\n",
        "                                                       padding = 'post',\r\n",
        "                                                       maxlen=256)"
      ],
      "execution_count": null,
      "outputs": []
    },
    {
      "cell_type": "code",
      "metadata": {
        "id": "srGA3fqjHvxB",
        "colab": {
          "base_uri": "https://localhost:8080/"
        },
        "outputId": "f5ff2d9f-6ca7-46d7-f833-baa7cd8c28d4"
      },
      "source": [
        "len(train_data[0]), len(train_data[1])"
      ],
      "execution_count": null,
      "outputs": [
        {
          "output_type": "execute_result",
          "data": {
            "text/plain": [
              "(256, 256)"
            ]
          },
          "metadata": {
            "tags": []
          },
          "execution_count": 10
        }
      ]
    },
    {
      "cell_type": "code",
      "metadata": {
        "id": "lxwjzhpxHvuj",
        "colab": {
          "base_uri": "https://localhost:8080/"
        },
        "outputId": "e4620e98-ef26-4d68-d24e-ec7923236a82"
      },
      "source": [
        "print(train_data[0])"
      ],
      "execution_count": null,
      "outputs": [
        {
          "output_type": "stream",
          "text": [
            "[   1   14   22   16   43  530  973 1622 1385   65  458 4468   66 3941\n",
            "    4  173   36  256    5   25  100   43  838  112   50  670    2    9\n",
            "   35  480  284    5  150    4  172  112  167    2  336  385   39    4\n",
            "  172 4536 1111   17  546   38   13  447    4  192   50   16    6  147\n",
            " 2025   19   14   22    4 1920 4613  469    4   22   71   87   12   16\n",
            "   43  530   38   76   15   13 1247    4   22   17  515   17   12   16\n",
            "  626   18    2    5   62  386   12    8  316    8  106    5    4 2223\n",
            " 5244   16  480   66 3785   33    4  130   12   16   38  619    5   25\n",
            "  124   51   36  135   48   25 1415   33    6   22   12  215   28   77\n",
            "   52    5   14  407   16   82    2    8    4  107  117 5952   15  256\n",
            "    4    2    7 3766    5  723   36   71   43  530  476   26  400  317\n",
            "   46    7    4    2 1029   13  104   88    4  381   15  297   98   32\n",
            " 2071   56   26  141    6  194 7486   18    4  226   22   21  134  476\n",
            "   26  480    5  144   30 5535   18   51   36   28  224   92   25  104\n",
            "    4  226   65   16   38 1334   88   12   16  283    5   16 4472  113\n",
            "  103   32   15   16 5345   19  178   32    0    0    0    0    0    0\n",
            "    0    0    0    0    0    0    0    0    0    0    0    0    0    0\n",
            "    0    0    0    0    0    0    0    0    0    0    0    0    0    0\n",
            "    0    0    0    0]\n"
          ],
          "name": "stdout"
        }
      ]
    },
    {
      "cell_type": "code",
      "metadata": {
        "id": "pBv18R3eHvsU",
        "colab": {
          "base_uri": "https://localhost:8080/"
        },
        "outputId": "8075eaca-8e8d-4d28-f3f1-f1b17ad32ca8"
      },
      "source": [
        "#모델 구성\r\n",
        "#입력의 크기는 영화 리뷰 데이터셋에 적용된 어휘 사전의 크기입니다.(10,000개의 단어)\r\n",
        "vocab_size = 10000\r\n",
        "\r\n",
        "model = keras.Sequential()\r\n",
        "model.add(keras.layers.Embedding(vocab_size, 16, input_shape=(None,)))\r\n",
        "model.add(keras.layers.GlobalAveragePooling1D())\r\n",
        "model.add(keras.layers.Dense(16, activation='relu'))\r\n",
        "model.add(keras.layers.Dense(1, activation='sigmoid'))\r\n",
        "\r\n",
        "model.summary()\r\n"
      ],
      "execution_count": null,
      "outputs": [
        {
          "output_type": "stream",
          "text": [
            "Model: \"sequential\"\n",
            "_________________________________________________________________\n",
            "Layer (type)                 Output Shape              Param #   \n",
            "=================================================================\n",
            "embedding (Embedding)        (None, None, 16)          160000    \n",
            "_________________________________________________________________\n",
            "global_average_pooling1d (Gl (None, 16)                0         \n",
            "_________________________________________________________________\n",
            "dense (Dense)                (None, 16)                272       \n",
            "_________________________________________________________________\n",
            "dense_1 (Dense)              (None, 1)                 17        \n",
            "=================================================================\n",
            "Total params: 160,289\n",
            "Trainable params: 160,289\n",
            "Non-trainable params: 0\n",
            "_________________________________________________________________\n"
          ],
          "name": "stdout"
        }
      ]
    },
    {
      "cell_type": "code",
      "metadata": {
        "id": "SxFPT6jfHvp5"
      },
      "source": [
        "# 은닉 유닛\r\n",
        "\r\n",
        "model.compile(optimizer='adam',\r\n",
        "              loss='binary_crossentropy',\r\n",
        "              metrics=['accuracy'])"
      ],
      "execution_count": null,
      "outputs": []
    },
    {
      "cell_type": "code",
      "metadata": {
        "id": "bC_5lsuWHvnh"
      },
      "source": [
        "# 검증 세트\r\n",
        "\r\n",
        "x_val = train_data[:10000]\r\n",
        "partial_x_train = train_data[10000:]\r\n",
        "\r\n",
        "y_val = train_labels[:10000]\r\n",
        "partial_y_train = train_labels[10000:]"
      ],
      "execution_count": null,
      "outputs": []
    },
    {
      "cell_type": "code",
      "metadata": {
        "id": "FaJ89k_7Hvjs",
        "colab": {
          "base_uri": "https://localhost:8080/"
        },
        "outputId": "574eed53-4fb6-4335-8643-4e4f9f7061d3"
      },
      "source": [
        "#모델 훈련\r\n",
        "\r\n",
        "history = model.fit(partial_x_train,\r\n",
        "                    partial_y_train,\r\n",
        "                    epochs=40,\r\n",
        "                    batch_size=512,\r\n",
        "                    validation_data=(x_val, y_val),\r\n",
        "                    verbose=1)"
      ],
      "execution_count": null,
      "outputs": [
        {
          "output_type": "stream",
          "text": [
            "Epoch 1/40\n",
            "30/30 [==============================] - 2s 28ms/step - loss: 0.6924 - accuracy: 0.5376 - val_loss: 0.6894 - val_accuracy: 0.6277\n",
            "Epoch 2/40\n",
            "30/30 [==============================] - 1s 17ms/step - loss: 0.6873 - accuracy: 0.6532 - val_loss: 0.6813 - val_accuracy: 0.7107\n",
            "Epoch 3/40\n",
            "30/30 [==============================] - 1s 17ms/step - loss: 0.6765 - accuracy: 0.7548 - val_loss: 0.6656 - val_accuracy: 0.7529\n",
            "Epoch 4/40\n",
            "30/30 [==============================] - 1s 17ms/step - loss: 0.6569 - accuracy: 0.7718 - val_loss: 0.6398 - val_accuracy: 0.7703\n",
            "Epoch 5/40\n",
            "30/30 [==============================] - 1s 17ms/step - loss: 0.6255 - accuracy: 0.7937 - val_loss: 0.6029 - val_accuracy: 0.7841\n",
            "Epoch 6/40\n",
            "30/30 [==============================] - 1s 17ms/step - loss: 0.5826 - accuracy: 0.8074 - val_loss: 0.5597 - val_accuracy: 0.7996\n",
            "Epoch 7/40\n",
            "30/30 [==============================] - 1s 17ms/step - loss: 0.5357 - accuracy: 0.8232 - val_loss: 0.5148 - val_accuracy: 0.8233\n",
            "Epoch 8/40\n",
            "30/30 [==============================] - 1s 17ms/step - loss: 0.4835 - accuracy: 0.8463 - val_loss: 0.4728 - val_accuracy: 0.8341\n",
            "Epoch 9/40\n",
            "30/30 [==============================] - 1s 17ms/step - loss: 0.4399 - accuracy: 0.8567 - val_loss: 0.4372 - val_accuracy: 0.8440\n",
            "Epoch 10/40\n",
            "30/30 [==============================] - 0s 17ms/step - loss: 0.4016 - accuracy: 0.8707 - val_loss: 0.4060 - val_accuracy: 0.8536\n",
            "Epoch 11/40\n",
            "30/30 [==============================] - 1s 17ms/step - loss: 0.3677 - accuracy: 0.8784 - val_loss: 0.3818 - val_accuracy: 0.8592\n",
            "Epoch 12/40\n",
            "30/30 [==============================] - 1s 17ms/step - loss: 0.3372 - accuracy: 0.8867 - val_loss: 0.3622 - val_accuracy: 0.8643\n",
            "Epoch 13/40\n",
            "30/30 [==============================] - 1s 18ms/step - loss: 0.3104 - accuracy: 0.8969 - val_loss: 0.3473 - val_accuracy: 0.8659\n",
            "Epoch 14/40\n",
            "30/30 [==============================] - 1s 18ms/step - loss: 0.2953 - accuracy: 0.9002 - val_loss: 0.3342 - val_accuracy: 0.8726\n",
            "Epoch 15/40\n",
            "30/30 [==============================] - 1s 18ms/step - loss: 0.2803 - accuracy: 0.9028 - val_loss: 0.3242 - val_accuracy: 0.8744\n",
            "Epoch 16/40\n",
            "30/30 [==============================] - 1s 18ms/step - loss: 0.2599 - accuracy: 0.9124 - val_loss: 0.3162 - val_accuracy: 0.8759\n",
            "Epoch 17/40\n",
            "30/30 [==============================] - 1s 17ms/step - loss: 0.2459 - accuracy: 0.9153 - val_loss: 0.3095 - val_accuracy: 0.8777\n",
            "Epoch 18/40\n",
            "30/30 [==============================] - 1s 18ms/step - loss: 0.2306 - accuracy: 0.9207 - val_loss: 0.3033 - val_accuracy: 0.8812\n",
            "Epoch 19/40\n",
            "30/30 [==============================] - 1s 18ms/step - loss: 0.2215 - accuracy: 0.9256 - val_loss: 0.2989 - val_accuracy: 0.8824\n",
            "Epoch 20/40\n",
            "30/30 [==============================] - 1s 18ms/step - loss: 0.2106 - accuracy: 0.9314 - val_loss: 0.2955 - val_accuracy: 0.8832\n",
            "Epoch 21/40\n",
            "30/30 [==============================] - 1s 18ms/step - loss: 0.2003 - accuracy: 0.9329 - val_loss: 0.2921 - val_accuracy: 0.8834\n",
            "Epoch 22/40\n",
            "30/30 [==============================] - 1s 18ms/step - loss: 0.1890 - accuracy: 0.9380 - val_loss: 0.2912 - val_accuracy: 0.8830\n",
            "Epoch 23/40\n",
            "30/30 [==============================] - 1s 18ms/step - loss: 0.1856 - accuracy: 0.9404 - val_loss: 0.2889 - val_accuracy: 0.8840\n",
            "Epoch 24/40\n",
            "30/30 [==============================] - 1s 18ms/step - loss: 0.1704 - accuracy: 0.9449 - val_loss: 0.2869 - val_accuracy: 0.8840\n",
            "Epoch 25/40\n",
            "30/30 [==============================] - 1s 17ms/step - loss: 0.1676 - accuracy: 0.9470 - val_loss: 0.2870 - val_accuracy: 0.8834\n",
            "Epoch 26/40\n",
            "30/30 [==============================] - 1s 18ms/step - loss: 0.1589 - accuracy: 0.9530 - val_loss: 0.2858 - val_accuracy: 0.8852\n",
            "Epoch 27/40\n",
            "30/30 [==============================] - 1s 17ms/step - loss: 0.1549 - accuracy: 0.9536 - val_loss: 0.2866 - val_accuracy: 0.8853\n",
            "Epoch 28/40\n",
            "30/30 [==============================] - 1s 18ms/step - loss: 0.1472 - accuracy: 0.9558 - val_loss: 0.2862 - val_accuracy: 0.8857\n",
            "Epoch 29/40\n",
            "30/30 [==============================] - 1s 17ms/step - loss: 0.1432 - accuracy: 0.9569 - val_loss: 0.2873 - val_accuracy: 0.8866\n",
            "Epoch 30/40\n",
            "30/30 [==============================] - 1s 18ms/step - loss: 0.1377 - accuracy: 0.9596 - val_loss: 0.2892 - val_accuracy: 0.8859\n",
            "Epoch 31/40\n",
            "30/30 [==============================] - 1s 17ms/step - loss: 0.1305 - accuracy: 0.9602 - val_loss: 0.2908 - val_accuracy: 0.8842\n",
            "Epoch 32/40\n",
            "30/30 [==============================] - 1s 18ms/step - loss: 0.1252 - accuracy: 0.9647 - val_loss: 0.2912 - val_accuracy: 0.8853\n",
            "Epoch 33/40\n",
            "30/30 [==============================] - 1s 18ms/step - loss: 0.1206 - accuracy: 0.9674 - val_loss: 0.2940 - val_accuracy: 0.8840\n",
            "Epoch 34/40\n",
            "30/30 [==============================] - 1s 17ms/step - loss: 0.1177 - accuracy: 0.9652 - val_loss: 0.2958 - val_accuracy: 0.8842\n",
            "Epoch 35/40\n",
            "30/30 [==============================] - 1s 17ms/step - loss: 0.1102 - accuracy: 0.9704 - val_loss: 0.2981 - val_accuracy: 0.8847\n",
            "Epoch 36/40\n",
            "30/30 [==============================] - 1s 17ms/step - loss: 0.1097 - accuracy: 0.9703 - val_loss: 0.3002 - val_accuracy: 0.8842\n",
            "Epoch 37/40\n",
            "30/30 [==============================] - 1s 18ms/step - loss: 0.1030 - accuracy: 0.9729 - val_loss: 0.3030 - val_accuracy: 0.8831\n",
            "Epoch 38/40\n",
            "30/30 [==============================] - 1s 18ms/step - loss: 0.1013 - accuracy: 0.9724 - val_loss: 0.3057 - val_accuracy: 0.8834\n",
            "Epoch 39/40\n",
            "30/30 [==============================] - 1s 17ms/step - loss: 0.0927 - accuracy: 0.9760 - val_loss: 0.3093 - val_accuracy: 0.8818\n",
            "Epoch 40/40\n",
            "30/30 [==============================] - 1s 17ms/step - loss: 0.0894 - accuracy: 0.9772 - val_loss: 0.3120 - val_accuracy: 0.8836\n"
          ],
          "name": "stdout"
        }
      ]
    },
    {
      "cell_type": "code",
      "metadata": {
        "colab": {
          "base_uri": "https://localhost:8080/"
        },
        "id": "kwe3W19tJi9m",
        "outputId": "df83a193-c868-45ae-a8f8-f37aa9ac4a71"
      },
      "source": [
        "# 모델 평가\r\n",
        "result = model.evaluate(test_data, test_labels, verbose=2)\r\n",
        "\r\n",
        "print(result)"
      ],
      "execution_count": null,
      "outputs": [
        {
          "output_type": "stream",
          "text": [
            "782/782 - 1s - loss: 0.3318 - accuracy: 0.8728\n",
            "[0.3318338990211487, 0.872759997844696]\n"
          ],
          "name": "stdout"
        }
      ]
    },
    {
      "cell_type": "code",
      "metadata": {
        "colab": {
          "base_uri": "https://localhost:8080/"
        },
        "id": "jOKzZ735JjZJ",
        "outputId": "039fe9b8-6851-4ab2-b5bd-1c49c62f706b"
      },
      "source": [
        "#정확도와 손실 그래프 표시\r\n",
        "\r\n",
        "history_dict = history.history\r\n",
        "history_dict.keys()"
      ],
      "execution_count": null,
      "outputs": [
        {
          "output_type": "execute_result",
          "data": {
            "text/plain": [
              "dict_keys(['loss', 'accuracy', 'val_loss', 'val_accuracy'])"
            ]
          },
          "metadata": {
            "tags": []
          },
          "execution_count": 17
        }
      ]
    },
    {
      "cell_type": "code",
      "metadata": {
        "colab": {
          "base_uri": "https://localhost:8080/",
          "height": 295
        },
        "id": "4S3GIMw3JkOI",
        "outputId": "60577db7-7fd3-4bc6-e827-0a1067136c8f"
      },
      "source": [
        "#그래프 표시\r\n",
        "\r\n",
        "import matplotlib.pyplot as plt\r\n",
        "\r\n",
        "acc = history_dict['accuracy']\r\n",
        "val_acc = history_dict['val_accuracy']\r\n",
        "loss = history_dict['loss']\r\n",
        "val_loss = history_dict['val_loss']\r\n",
        "\r\n",
        "epochs = range(1, len(acc) + 1)\r\n",
        "\r\n",
        "# bo 는 파란색 점\r\n",
        "plt.plot(epochs, loss, 'bo', label='Training loss')\r\n",
        "# b 는 파란 실선\r\n",
        "plt.plot(epochs, val_loss, 'b', label='Validation loss')\r\n",
        "plt.title(\"Training and validation loss\") # 훈련 손실과 검증 손실\r\n",
        "plt.xlabel(\"Epochs\")\r\n",
        "plt.ylabel(\"Loss\")\r\n",
        "plt.legend()\r\n",
        "\r\n",
        "plt.show()"
      ],
      "execution_count": null,
      "outputs": [
        {
          "output_type": "display_data",
          "data": {
            "image/png": "[encoded data removed]",
            "text/plain": [
              "<Figure size 432x288 with 1 Axes>"
            ]
          },
          "metadata": {
            "tags": [],
            "needs_background": "light"
          }
        }
      ]
    },
    {
      "cell_type": "code",
      "metadata": {
        "colab": {
          "base_uri": "https://localhost:8080/",
          "height": 295
        },
        "id": "oZumST-2Jkmv",
        "outputId": "9375d70b-1569-4bd8-b5b1-c264874746b6"
      },
      "source": [
        "plt.clf() # 그림을 초기화\r\n",
        "\r\n",
        "plt.plot(epochs, acc, 'bo', label='Training acc')\r\n",
        "plt.plot(epochs, val_acc, 'b', label='Validation acc')\r\n",
        "plt.title('Training and validation accuracy') # 훈련 정확도와 증명 정확도\r\n",
        "plt.xlabel(\"Epochs\")\r\n",
        "plt.ylabel('Accuracy')\r\n",
        "plt.legend()\r\n",
        "\r\n",
        "plt.show()"
      ],
      "execution_count": null,
      "outputs": [
        {
          "output_type": "display_data",
          "data": {
            "image/png": "[encoded data removed]",
            "text/plain": [
              "<Figure size 432x288 with 1 Axes>"
            ]
          },
          "metadata": {
            "tags": [],
            "needs_background": "light"
          }
        }
      ]
    },
    {
      "cell_type": "code",
      "metadata": {
        "id": "BU6U71HdJkzI"
      },
      "source": [
        ""
      ],
      "execution_count": null,
      "outputs": []
    },
    {
      "cell_type": "code",
      "metadata": {
        "id": "0g4TVylZJk6P"
      },
      "source": [
        ""
      ],
      "execution_count": null,
      "outputs": []
    },
    {
      "cell_type": "code",
      "metadata": {
        "id": "3DgpWPRnJlaI"
      },
      "source": [
        ""
      ],
      "execution_count": null,
      "outputs": []
    },
    {
      "cell_type": "code",
      "metadata": {
        "id": "_k3lOkTxJljz"
      },
      "source": [
        ""
      ],
      "execution_count": null,
      "outputs": []
    },
    {
      "cell_type": "code",
      "metadata": {
        "id": "cxVVnPtQJluD"
      },
      "source": [
        ""
      ],
      "execution_count": null,
      "outputs": []
    },
    {
      "cell_type": "code",
      "metadata": {
        "id": "l2DPG8mZJl44"
      },
      "source": [
        ""
      ],
      "execution_count": null,
      "outputs": []
    },
    {
      "cell_type": "code",
      "metadata": {
        "id": "rbSTwgxcJmCj"
      },
      "source": [
        ""
      ],
      "execution_count": null,
      "outputs": []
    }
  ]
}